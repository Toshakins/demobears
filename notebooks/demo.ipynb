{
 "cells": [
  {
   "cell_type": "markdown",
   "metadata": {
    "collapsed": true,
    "pycharm": {
     "name": "#%% md\n"
    }
   },
   "source": [
    "Pre-requirements! Select some users and put\n",
    "them into a CSV in `./demo/users.csv`. Include column names!\n",
    "\n",
    "```sql\n",
    "select id, name, surname, signupDate\n",
    "from User\n",
    "limit 1000000;\n",
    "```"
   ]
  },
  {
   "cell_type": "markdown",
   "source": [
    "Effortless shell integration:"
   ],
   "metadata": {
    "collapsed": false,
    "pycharm": {
     "name": "#%% md\n"
    }
   }
  },
  {
   "cell_type": "code",
   "execution_count": 4,
   "outputs": [
    {
     "name": "stdout",
     "output_type": "stream",
     "text": [
      "id,name,surname,signupDate\r\n",
      "0000019ef95d4b2799cb23453a0b552e,cleopatraslots,\"\",2011-12-11 07:50:23\r\n",
      "0000027a49ed41fdafbd66da296b72de,mero,\"\",2013-06-23 22:28:43\r\n",
      "000002a65d31401288bcf5e79f0cee20,Bernard,Bray,2015-02-16 11:53:54\r\n",
      "000002c7103c4936b588a120ae7e1d4d,totobooksite,\"\",2020-09-06 13:49:18\r\n",
      "00000388b2de45cca313f4ec6e271d8b,پیماناشرفی,\"\",2017-04-13 12:14:13\r\n",
      "0000043a9c9947a997c01664fb5d2afc,tertoleftdisp,\"\",2011-09-25 15:35:44\r\n",
      "000004e98d284145a67f920f9a4eda37,akash,chhatui,2011-01-31 16:13:19\r\n",
      "000004f5ae3f433cbf8121f12d04252e,fireplace2,fireplace2,2012-12-07 07:14:00\r\n",
      "00000509d32c49e4b99ca7d6e86ffa2a,andrew,kawalek,2010-11-20 01:37:34\r\n"
     ]
    }
   ],
   "source": [
    "!head -n 5 ../data/users.csv"
   ],
   "metadata": {
    "collapsed": false,
    "pycharm": {
     "name": "#%%\n"
    }
   }
  },
  {
   "cell_type": "markdown",
   "source": [
    "We can read from CSV in one line:"
   ],
   "metadata": {
    "collapsed": false,
    "pycharm": {
     "name": "#%% md\n"
    }
   }
  },
  {
   "cell_type": "code",
   "execution_count": 44,
   "outputs": [],
   "source": [
    "import pandas as pd\n",
    "df = pd.read_csv('../data/users.csv',\n",
    "\t\t\t\t parse_dates=['signupDate'])"
   ],
   "metadata": {
    "collapsed": false,
    "pycharm": {
     "name": "#%%\n"
    }
   }
  },
  {
   "cell_type": "markdown",
   "source": [
    "Many ways to look inside:"
   ],
   "metadata": {
    "collapsed": false,
    "pycharm": {
     "name": "#%% md\n"
    }
   }
  },
  {
   "cell_type": "code",
   "execution_count": 11,
   "outputs": [
    {
     "data": {
      "text/plain": "                                      id     name   surname  \\\n114817  02a9517f568c45e2b4138954316521ed      Ian       NaN   \n387422  08fbb33f57d446a8b140c43a68aeed02    Fabio       NaN   \n753894  1178d3676f6440d2a4b68351d845e0a0   Batang  Caloocan   \n569672  0d37b66cfc88428cb6c8bdc1ddee002e    Irina       NaN   \n555000  0ce1204628084cf8b48d392392663213  Adittia     Powar   \n\n                 signupDate  \n114817  2011-02-09 21:39:15  \n387422  2017-05-01 21:27:51  \n753894  2010-08-13 02:11:20  \n569672  2015-11-25 14:07:39  \n555000  2012-04-12 15:27:30  ",
      "text/html": "<div>\n<style scoped>\n    .dataframe tbody tr th:only-of-type {\n        vertical-align: middle;\n    }\n\n    .dataframe tbody tr th {\n        vertical-align: top;\n    }\n\n    .dataframe thead th {\n        text-align: right;\n    }\n</style>\n<table border=\"1\" class=\"dataframe\">\n  <thead>\n    <tr style=\"text-align: right;\">\n      <th></th>\n      <th>id</th>\n      <th>name</th>\n      <th>surname</th>\n      <th>signupDate</th>\n    </tr>\n  </thead>\n  <tbody>\n    <tr>\n      <th>114817</th>\n      <td>02a9517f568c45e2b4138954316521ed</td>\n      <td>Ian</td>\n      <td>NaN</td>\n      <td>2011-02-09 21:39:15</td>\n    </tr>\n    <tr>\n      <th>387422</th>\n      <td>08fbb33f57d446a8b140c43a68aeed02</td>\n      <td>Fabio</td>\n      <td>NaN</td>\n      <td>2017-05-01 21:27:51</td>\n    </tr>\n    <tr>\n      <th>753894</th>\n      <td>1178d3676f6440d2a4b68351d845e0a0</td>\n      <td>Batang</td>\n      <td>Caloocan</td>\n      <td>2010-08-13 02:11:20</td>\n    </tr>\n    <tr>\n      <th>569672</th>\n      <td>0d37b66cfc88428cb6c8bdc1ddee002e</td>\n      <td>Irina</td>\n      <td>NaN</td>\n      <td>2015-11-25 14:07:39</td>\n    </tr>\n    <tr>\n      <th>555000</th>\n      <td>0ce1204628084cf8b48d392392663213</td>\n      <td>Adittia</td>\n      <td>Powar</td>\n      <td>2012-04-12 15:27:30</td>\n    </tr>\n  </tbody>\n</table>\n</div>"
     },
     "execution_count": 11,
     "metadata": {},
     "output_type": "execute_result"
    }
   ],
   "source": [
    "df.sample(5)"
   ],
   "metadata": {
    "collapsed": false,
    "pycharm": {
     "name": "#%%\n"
    }
   }
  },
  {
   "cell_type": "code",
   "execution_count": 12,
   "outputs": [
    {
     "data": {
      "text/plain": "                                 id            name surname  \\\n0  0000019ef95d4b2799cb23453a0b552e  cleopatraslots     NaN   \n1  0000027a49ed41fdafbd66da296b72de            mero     NaN   \n\n            signupDate  \n0  2011-12-11 07:50:23  \n1  2013-06-23 22:28:43  ",
      "text/html": "<div>\n<style scoped>\n    .dataframe tbody tr th:only-of-type {\n        vertical-align: middle;\n    }\n\n    .dataframe tbody tr th {\n        vertical-align: top;\n    }\n\n    .dataframe thead th {\n        text-align: right;\n    }\n</style>\n<table border=\"1\" class=\"dataframe\">\n  <thead>\n    <tr style=\"text-align: right;\">\n      <th></th>\n      <th>id</th>\n      <th>name</th>\n      <th>surname</th>\n      <th>signupDate</th>\n    </tr>\n  </thead>\n  <tbody>\n    <tr>\n      <th>0</th>\n      <td>0000019ef95d4b2799cb23453a0b552e</td>\n      <td>cleopatraslots</td>\n      <td>NaN</td>\n      <td>2011-12-11 07:50:23</td>\n    </tr>\n    <tr>\n      <th>1</th>\n      <td>0000027a49ed41fdafbd66da296b72de</td>\n      <td>mero</td>\n      <td>NaN</td>\n      <td>2013-06-23 22:28:43</td>\n    </tr>\n  </tbody>\n</table>\n</div>"
     },
     "execution_count": 12,
     "metadata": {},
     "output_type": "execute_result"
    }
   ],
   "source": [
    "df.head(2)"
   ],
   "metadata": {
    "collapsed": false,
    "pycharm": {
     "name": "#%%\n"
    }
   }
  },
  {
   "cell_type": "code",
   "execution_count": 13,
   "outputs": [
    {
     "data": {
      "text/plain": "                                      id      name surname  \\\n999997  172cd3141e824aad8b2defbf68760970  kristian    king   \n999998  172cd4692f8e4bedb7627e44ec1f9f66    keyara   otero   \n999999  172cd603314f4a08a856ef7eecca05fe    SRIJAN     NaN   \n\n                 signupDate  \n999997  2014-12-07 03:42:54  \n999998  2014-11-04 17:40:07  \n999999  2017-10-19 10:31:37  ",
      "text/html": "<div>\n<style scoped>\n    .dataframe tbody tr th:only-of-type {\n        vertical-align: middle;\n    }\n\n    .dataframe tbody tr th {\n        vertical-align: top;\n    }\n\n    .dataframe thead th {\n        text-align: right;\n    }\n</style>\n<table border=\"1\" class=\"dataframe\">\n  <thead>\n    <tr style=\"text-align: right;\">\n      <th></th>\n      <th>id</th>\n      <th>name</th>\n      <th>surname</th>\n      <th>signupDate</th>\n    </tr>\n  </thead>\n  <tbody>\n    <tr>\n      <th>999997</th>\n      <td>172cd3141e824aad8b2defbf68760970</td>\n      <td>kristian</td>\n      <td>king</td>\n      <td>2014-12-07 03:42:54</td>\n    </tr>\n    <tr>\n      <th>999998</th>\n      <td>172cd4692f8e4bedb7627e44ec1f9f66</td>\n      <td>keyara</td>\n      <td>otero</td>\n      <td>2014-11-04 17:40:07</td>\n    </tr>\n    <tr>\n      <th>999999</th>\n      <td>172cd603314f4a08a856ef7eecca05fe</td>\n      <td>SRIJAN</td>\n      <td>NaN</td>\n      <td>2017-10-19 10:31:37</td>\n    </tr>\n  </tbody>\n</table>\n</div>"
     },
     "execution_count": 13,
     "metadata": {},
     "output_type": "execute_result"
    }
   ],
   "source": [
    "df.tail(3)"
   ],
   "metadata": {
    "collapsed": false,
    "pycharm": {
     "name": "#%%\n"
    }
   }
  },
  {
   "cell_type": "markdown",
   "source": [
    "How many people have both names set?"
   ],
   "metadata": {
    "collapsed": false,
    "pycharm": {
     "name": "#%% md\n"
    }
   }
  },
  {
   "cell_type": "code",
   "execution_count": 17,
   "outputs": [
    {
     "data": {
      "text/plain": "id            1000000\nname           999400\nsurname        637374\nsignupDate    1000000\ndtype: int64"
     },
     "execution_count": 17,
     "metadata": {},
     "output_type": "execute_result"
    }
   ],
   "source": [
    "df.dropna().count()\n"
   ],
   "metadata": {
    "collapsed": false,
    "pycharm": {
     "name": "#%%\n"
    }
   }
  },
  {
   "cell_type": "markdown",
   "source": [
    "How many full namesakes live in Yola?"
   ],
   "metadata": {
    "collapsed": false,
    "pycharm": {
     "name": "#%% md\n"
    }
   }
  },
  {
   "cell_type": "code",
   "execution_count": 28,
   "outputs": [
    {
     "data": {
      "text/plain": "name            surname   \nFirst           Last          22014\nDemo            Demo           2925\nKunde           Kunde          1120\nWebsiteBuilder  Activeuser      828\nMarvin          Mikkelson       165\nSibername       Customer        164\nJohn            Smith           130\nkunde           kunde           119\njohn            Francis         106\n1               1                68\ndtype: int64"
     },
     "execution_count": 28,
     "metadata": {},
     "output_type": "execute_result"
    }
   ],
   "source": [
    "namesakes = df.value_counts(['name', 'surname'])\n",
    "namesakes.head(10)"
   ],
   "metadata": {
    "collapsed": false,
    "pycharm": {
     "name": "#%%\n"
    }
   }
  },
  {
   "cell_type": "code",
   "execution_count": 29,
   "outputs": [
    {
     "data": {
      "text/plain": "name      surname \njohn      john        64\n          smith       59\nDavid     David       58\nJames     James       57\nDaniel    Daniel      54\nalex      alex        53\nJohn      John        53\nJhon      Smith       52\nBillups,  Chauncey    51\nChris     Chris       50\ndtype: int64"
     },
     "execution_count": 29,
     "metadata": {},
     "output_type": "execute_result"
    }
   ],
   "source": [
    "namesakes.iloc[10:20]"
   ],
   "metadata": {
    "collapsed": false,
    "pycharm": {
     "name": "#%%\n"
    }
   }
  },
  {
   "cell_type": "markdown",
   "source": [
    "Are there any Anton's? Please export them as Python dictionaries."
   ],
   "metadata": {
    "collapsed": false,
    "pycharm": {
     "name": "#%% md\n"
    }
   }
  },
  {
   "cell_type": "code",
   "execution_count": 40,
   "outputs": [
    {
     "data": {
      "text/plain": "[{'id': '07c6620877744f90b6a029c094a2ecd8',\n  'name': 'Anton',\n  'surname': 'Gayness',\n  'signupDate': '2011-09-01 08:19:56'},\n {'id': '0b99a0e4d3ee464ab867b964fd306652',\n  'name': 'Anton',\n  'surname': nan,\n  'signupDate': '2013-09-26 13:35:12'},\n {'id': '00ad1b31d86f49f7b1f229b67b284061',\n  'name': 'Anton',\n  'surname': 'Petek',\n  'signupDate': '2014-09-18 14:55:51'}]"
     },
     "execution_count": 40,
     "metadata": {},
     "output_type": "execute_result"
    }
   ],
   "source": [
    "df[df['name'] == 'Anton'].sample(3).to_dict(orient='records')"
   ],
   "metadata": {
    "collapsed": false,
    "pycharm": {
     "name": "#%%\n"
    }
   }
  },
  {
   "cell_type": "markdown",
   "source": [
    "When were the happiest days in Yola?"
   ],
   "metadata": {
    "collapsed": false,
    "pycharm": {
     "name": "#%% md\n"
    }
   }
  },
  {
   "cell_type": "code",
   "execution_count": 46,
   "outputs": [
    {
     "data": {
      "text/plain": "HBox(children=(HTML(value='Pandas Apply'), FloatProgress(value=0.0, max=1000000.0), HTML(value='')))",
      "application/vnd.jupyter.widget-view+json": {
       "version_major": 2,
       "version_minor": 0,
       "model_id": "b0b54fd900894cff8cc9d169c608fb2c"
      }
     },
     "metadata": {},
     "output_type": "display_data"
    },
    {
     "name": "stdout",
     "output_type": "stream",
     "text": [
      "\n"
     ]
    }
   ],
   "source": [
    "import swifter  # noqa\n",
    "signup_by_day = df.swifter.apply(\n",
    "\tlambda row: row.signupDate.date(),\n",
    "\taxis='columns').value_counts()"
   ],
   "metadata": {
    "collapsed": false,
    "pycharm": {
     "name": "#%%\n"
    }
   }
  },
  {
   "cell_type": "code",
   "execution_count": 47,
   "outputs": [],
   "source": [
    "import matplotlib.pyplot as plt\n",
    "%matplotlib inline"
   ],
   "metadata": {
    "collapsed": false,
    "pycharm": {
     "name": "#%%\n"
    }
   }
  },
  {
   "cell_type": "code",
   "execution_count": 50,
   "outputs": [
    {
     "data": {
      "text/plain": "<AxesSubplot:xlabel='Day', ylabel='User Signup Count'>"
     },
     "execution_count": 50,
     "metadata": {},
     "output_type": "execute_result"
    },
    {
     "data": {
      "text/plain": "<Figure size 1440x720 with 1 Axes>",
      "image/png": "[encoded data removed]"
     },
     "metadata": {
      "needs_background": "light"
     },
     "output_type": "display_data"
    }
   ],
   "source": [
    "plt.figure(figsize=(20, 10))\n",
    "plt.xlabel('Day', **dict(fontsize='xx-large'))\n",
    "plt.ylabel('User Signup Count', **dict(fontsize='xx-large'))\n",
    "signup_by_day.plot()"
   ],
   "metadata": {
    "collapsed": false,
    "pycharm": {
     "name": "#%%\n"
    }
   }
  },
  {
   "cell_type": "code",
   "execution_count": 58,
   "outputs": [
    {
     "data": {
      "text/plain": "2013-10-25    2486\n2013-10-26    2463\n2013-10-24    1783\n2013-10-27    1779\n2016-03-11    1738\n2016-03-15    1425\n2016-03-10    1378\n2013-11-02    1198\n2013-11-03    1196\n2015-11-05    1080\ndtype: int64"
     },
     "execution_count": 58,
     "metadata": {},
     "output_type": "execute_result"
    }
   ],
   "source": [
    "signup_by_day.sort_values(ascending=False).head(10)"
   ],
   "metadata": {
    "collapsed": false,
    "pycharm": {
     "name": "#%%\n"
    }
   }
  }
 ],
 "metadata": {
  "kernelspec": {
   "display_name": "Python 3",
   "language": "python",
   "name": "python3"
  },
  "language_info": {
   "codemirror_mode": {
    "name": "ipython",
    "version": 2
   },
   "file_extension": ".py",
   "mimetype": "text/x-python",
   "name": "python",
   "nbconvert_exporter": "python",
   "pygments_lexer": "ipython2",
   "version": "2.7.6"
  }
 },
 "nbformat": 4,
 "nbformat_minor": 0
}